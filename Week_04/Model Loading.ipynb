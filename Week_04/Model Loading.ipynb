{
 "cells": [
  {
   "cell_type": "code",
   "execution_count": 1,
   "metadata": {},
   "outputs": [],
   "source": [
    "import pandas as pd\n",
    "import numpy as np\n",
    "\n",
    "df = pd.read_csv(\"../models/monkey.tri\", delim_whitespace=True, comment='#', header=None, dtype=np.float32)"
   ]
  },
  {
   "cell_type": "code",
   "execution_count": 2,
   "metadata": {},
   "outputs": [
    {
     "data": {
      "text/html": [
       "<div>\n",
       "<style scoped>\n",
       "    .dataframe tbody tr th:only-of-type {\n",
       "        vertical-align: middle;\n",
       "    }\n",
       "\n",
       "    .dataframe tbody tr th {\n",
       "        vertical-align: top;\n",
       "    }\n",
       "\n",
       "    .dataframe thead th {\n",
       "        text-align: right;\n",
       "    }\n",
       "</style>\n",
       "<table border=\"1\" class=\"dataframe\">\n",
       "  <thead>\n",
       "    <tr style=\"text-align: right;\">\n",
       "      <th></th>\n",
       "      <th>0</th>\n",
       "      <th>1</th>\n",
       "      <th>2</th>\n",
       "      <th>3</th>\n",
       "      <th>4</th>\n",
       "      <th>5</th>\n",
       "      <th>6</th>\n",
       "      <th>7</th>\n",
       "      <th>8</th>\n",
       "      <th>9</th>\n",
       "      <th>10</th>\n",
       "    </tr>\n",
       "  </thead>\n",
       "  <tbody>\n",
       "    <tr>\n",
       "      <th>0</th>\n",
       "      <td>0.329580</td>\n",
       "      <td>0.169321</td>\n",
       "      <td>0.521407</td>\n",
       "      <td>0.5</td>\n",
       "      <td>0.7</td>\n",
       "      <td>0.3</td>\n",
       "      <td>0.801141</td>\n",
       "      <td>-0.001190</td>\n",
       "      <td>0.598437</td>\n",
       "      <td>0.891866</td>\n",
       "      <td>0.588564</td>\n",
       "    </tr>\n",
       "    <tr>\n",
       "      <th>1</th>\n",
       "      <td>0.341076</td>\n",
       "      <td>0.129833</td>\n",
       "      <td>0.500776</td>\n",
       "      <td>0.5</td>\n",
       "      <td>0.7</td>\n",
       "      <td>0.3</td>\n",
       "      <td>0.724021</td>\n",
       "      <td>-0.242134</td>\n",
       "      <td>0.645863</td>\n",
       "      <td>0.881611</td>\n",
       "      <td>0.575125</td>\n",
       "    </tr>\n",
       "    <tr>\n",
       "      <th>2</th>\n",
       "      <td>0.348952</td>\n",
       "      <td>0.169038</td>\n",
       "      <td>0.498902</td>\n",
       "      <td>0.5</td>\n",
       "      <td>0.7</td>\n",
       "      <td>0.3</td>\n",
       "      <td>0.767632</td>\n",
       "      <td>-0.000702</td>\n",
       "      <td>0.640858</td>\n",
       "      <td>0.896347</td>\n",
       "      <td>0.578250</td>\n",
       "    </tr>\n",
       "    <tr>\n",
       "      <th>3</th>\n",
       "      <td>0.323406</td>\n",
       "      <td>0.137715</td>\n",
       "      <td>0.522880</td>\n",
       "      <td>0.5</td>\n",
       "      <td>0.7</td>\n",
       "      <td>0.3</td>\n",
       "      <td>0.757775</td>\n",
       "      <td>-0.256294</td>\n",
       "      <td>0.600024</td>\n",
       "      <td>0.881001</td>\n",
       "      <td>0.586218</td>\n",
       "    </tr>\n",
       "    <tr>\n",
       "      <th>4</th>\n",
       "      <td>0.318799</td>\n",
       "      <td>0.096801</td>\n",
       "      <td>0.505737</td>\n",
       "      <td>0.5</td>\n",
       "      <td>0.7</td>\n",
       "      <td>0.3</td>\n",
       "      <td>0.590136</td>\n",
       "      <td>-0.459914</td>\n",
       "      <td>0.663442</td>\n",
       "      <td>0.866682</td>\n",
       "      <td>0.578023</td>\n",
       "    </tr>\n",
       "  </tbody>\n",
       "</table>\n",
       "</div>"
      ],
      "text/plain": [
       "         0         1         2    3    4    5         6         7         8   \\\n",
       "0  0.329580  0.169321  0.521407  0.5  0.7  0.3  0.801141 -0.001190  0.598437   \n",
       "1  0.341076  0.129833  0.500776  0.5  0.7  0.3  0.724021 -0.242134  0.645863   \n",
       "2  0.348952  0.169038  0.498902  0.5  0.7  0.3  0.767632 -0.000702  0.640858   \n",
       "3  0.323406  0.137715  0.522880  0.5  0.7  0.3  0.757775 -0.256294  0.600024   \n",
       "4  0.318799  0.096801  0.505737  0.5  0.7  0.3  0.590136 -0.459914  0.663442   \n",
       "\n",
       "         9         10  \n",
       "0  0.891866  0.588564  \n",
       "1  0.881611  0.575125  \n",
       "2  0.896347  0.578250  \n",
       "3  0.881001  0.586218  \n",
       "4  0.866682  0.578023  "
      ]
     },
     "execution_count": 2,
     "metadata": {},
     "output_type": "execute_result"
    }
   ],
   "source": [
    "df.head()"
   ]
  },
  {
   "cell_type": "code",
   "execution_count": 3,
   "metadata": {},
   "outputs": [
    {
     "data": {
      "text/html": [
       "<div>\n",
       "<style scoped>\n",
       "    .dataframe tbody tr th:only-of-type {\n",
       "        vertical-align: middle;\n",
       "    }\n",
       "\n",
       "    .dataframe tbody tr th {\n",
       "        vertical-align: top;\n",
       "    }\n",
       "\n",
       "    .dataframe thead th {\n",
       "        text-align: right;\n",
       "    }\n",
       "</style>\n",
       "<table border=\"1\" class=\"dataframe\">\n",
       "  <thead>\n",
       "    <tr style=\"text-align: right;\">\n",
       "      <th></th>\n",
       "      <th>0</th>\n",
       "      <th>1</th>\n",
       "      <th>2</th>\n",
       "      <th>3</th>\n",
       "      <th>4</th>\n",
       "      <th>5</th>\n",
       "      <th>6</th>\n",
       "      <th>7</th>\n",
       "      <th>8</th>\n",
       "      <th>9</th>\n",
       "      <th>10</th>\n",
       "    </tr>\n",
       "  </thead>\n",
       "  <tbody>\n",
       "    <tr>\n",
       "      <th>11803</th>\n",
       "      <td>-0.433311</td>\n",
       "      <td>-0.050357</td>\n",
       "      <td>-0.205242</td>\n",
       "      <td>0.5</td>\n",
       "      <td>0.7</td>\n",
       "      <td>0.3</td>\n",
       "      <td>-0.132389</td>\n",
       "      <td>-0.877773</td>\n",
       "      <td>-0.460341</td>\n",
       "      <td>0.314477</td>\n",
       "      <td>0.581974</td>\n",
       "    </tr>\n",
       "    <tr>\n",
       "      <th>11804</th>\n",
       "      <td>-0.435227</td>\n",
       "      <td>-0.071342</td>\n",
       "      <td>-0.118323</td>\n",
       "      <td>0.5</td>\n",
       "      <td>0.7</td>\n",
       "      <td>0.3</td>\n",
       "      <td>-0.221076</td>\n",
       "      <td>-0.975219</td>\n",
       "      <td>-0.003388</td>\n",
       "      <td>0.351451</td>\n",
       "      <td>0.612562</td>\n",
       "    </tr>\n",
       "    <tr>\n",
       "      <th>11805</th>\n",
       "      <td>-0.490821</td>\n",
       "      <td>-0.062137</td>\n",
       "      <td>-0.185953</td>\n",
       "      <td>0.5</td>\n",
       "      <td>0.7</td>\n",
       "      <td>0.3</td>\n",
       "      <td>0.080691</td>\n",
       "      <td>-0.894742</td>\n",
       "      <td>-0.439192</td>\n",
       "      <td>0.304817</td>\n",
       "      <td>0.610897</td>\n",
       "    </tr>\n",
       "    <tr>\n",
       "      <th>11806</th>\n",
       "      <td>-0.491746</td>\n",
       "      <td>-0.074751</td>\n",
       "      <td>-0.129370</td>\n",
       "      <td>0.5</td>\n",
       "      <td>0.7</td>\n",
       "      <td>0.3</td>\n",
       "      <td>0.046236</td>\n",
       "      <td>-0.975951</td>\n",
       "      <td>0.212928</td>\n",
       "      <td>0.333254</td>\n",
       "      <td>0.633532</td>\n",
       "    </tr>\n",
       "    <tr>\n",
       "      <th>11807</th>\n",
       "      <td>-0.556903</td>\n",
       "      <td>-0.079148</td>\n",
       "      <td>-0.139415</td>\n",
       "      <td>0.5</td>\n",
       "      <td>0.7</td>\n",
       "      <td>0.3</td>\n",
       "      <td>-0.063906</td>\n",
       "      <td>-0.972289</td>\n",
       "      <td>0.224769</td>\n",
       "      <td>0.310643</td>\n",
       "      <td>0.654046</td>\n",
       "    </tr>\n",
       "  </tbody>\n",
       "</table>\n",
       "</div>"
      ],
      "text/plain": [
       "             0         1         2    3    4    5         6         7   \\\n",
       "11803 -0.433311 -0.050357 -0.205242  0.5  0.7  0.3 -0.132389 -0.877773   \n",
       "11804 -0.435227 -0.071342 -0.118323  0.5  0.7  0.3 -0.221076 -0.975219   \n",
       "11805 -0.490821 -0.062137 -0.185953  0.5  0.7  0.3  0.080691 -0.894742   \n",
       "11806 -0.491746 -0.074751 -0.129370  0.5  0.7  0.3  0.046236 -0.975951   \n",
       "11807 -0.556903 -0.079148 -0.139415  0.5  0.7  0.3 -0.063906 -0.972289   \n",
       "\n",
       "             8         9         10  \n",
       "11803 -0.460341  0.314477  0.581974  \n",
       "11804 -0.003388  0.351451  0.612562  \n",
       "11805 -0.439192  0.304817  0.610897  \n",
       "11806  0.212928  0.333254  0.633532  \n",
       "11807  0.224769  0.310643  0.654046  "
      ]
     },
     "execution_count": 3,
     "metadata": {},
     "output_type": "execute_result"
    }
   ],
   "source": [
    "df.tail()"
   ]
  },
  {
   "cell_type": "code",
   "execution_count": 4,
   "metadata": {},
   "outputs": [
    {
     "data": {
      "text/plain": [
       "array([[ 0.32958 ,  0.169321,  0.521407, ...,  0.598437,  0.891866,\n",
       "         0.588564],\n",
       "       [ 0.341076,  0.129833,  0.500776, ...,  0.645863,  0.881611,\n",
       "         0.575125],\n",
       "       [ 0.348952,  0.169038,  0.498902, ...,  0.640858,  0.896347,\n",
       "         0.57825 ],\n",
       "       ...,\n",
       "       [-0.490821, -0.062137, -0.185953, ..., -0.439192,  0.304817,\n",
       "         0.610897],\n",
       "       [-0.491746, -0.074751, -0.12937 , ...,  0.212928,  0.333254,\n",
       "         0.633532],\n",
       "       [-0.556903, -0.079148, -0.139415, ...,  0.224769,  0.310643,\n",
       "         0.654046]], dtype=float32)"
      ]
     },
     "execution_count": 4,
     "metadata": {},
     "output_type": "execute_result"
    }
   ],
   "source": [
    "df.values"
   ]
  },
  {
   "cell_type": "code",
   "execution_count": 5,
   "metadata": {},
   "outputs": [
    {
     "data": {
      "text/plain": [
       "(11808, 11)"
      ]
     },
     "execution_count": 5,
     "metadata": {},
     "output_type": "execute_result"
    }
   ],
   "source": [
    "df.values.shape"
   ]
  },
  {
   "cell_type": "code",
   "execution_count": 6,
   "metadata": {},
   "outputs": [
    {
     "data": {
      "text/plain": [
       "array([[ 0.32958 ,  0.169321,  0.521407, ...,  0.598437,  0.891866,\n",
       "         0.588564],\n",
       "       [ 0.341076,  0.129833,  0.500776, ...,  0.645863,  0.881611,\n",
       "         0.575125],\n",
       "       [ 0.348952,  0.169038,  0.498902, ...,  0.640858,  0.896347,\n",
       "         0.57825 ],\n",
       "       ...,\n",
       "       [-0.490821, -0.062137, -0.185953, ..., -0.439192,  0.304817,\n",
       "         0.610897],\n",
       "       [-0.491746, -0.074751, -0.12937 , ...,  0.212928,  0.333254,\n",
       "         0.633532],\n",
       "       [-0.556903, -0.079148, -0.139415, ...,  0.224769,  0.310643,\n",
       "         0.654046]], dtype=float32)"
      ]
     },
     "execution_count": 6,
     "metadata": {},
     "output_type": "execute_result"
    }
   ],
   "source": [
    "df.values"
   ]
  },
  {
   "cell_type": "code",
   "execution_count": 7,
   "metadata": {},
   "outputs": [
    {
     "data": {
      "text/plain": [
       "numpy.ndarray"
      ]
     },
     "execution_count": 7,
     "metadata": {},
     "output_type": "execute_result"
    }
   ],
   "source": [
    "type(df.values)"
   ]
  },
  {
   "cell_type": "code",
   "execution_count": 8,
   "metadata": {},
   "outputs": [
    {
     "data": {
      "text/plain": [
       "array([ 0.32958 ,  0.169321,  0.521407,  0.5     ,  0.7     ,  0.3     ,\n",
       "        0.801141, -0.00119 ,  0.598437,  0.891866,  0.588564],\n",
       "      dtype=float32)"
      ]
     },
     "execution_count": 8,
     "metadata": {},
     "output_type": "execute_result"
    }
   ],
   "source": [
    "df.values[0]"
   ]
  },
  {
   "cell_type": "code",
   "execution_count": 9,
   "metadata": {},
   "outputs": [
    {
     "data": {
      "text/plain": [
       "11"
      ]
     },
     "execution_count": 9,
     "metadata": {},
     "output_type": "execute_result"
    }
   ],
   "source": [
    "len(df.values[0])"
   ]
  },
  {
   "cell_type": "code",
   "execution_count": 10,
   "metadata": {},
   "outputs": [
    {
     "data": {
      "text/plain": [
       "(11,)"
      ]
     },
     "execution_count": 10,
     "metadata": {},
     "output_type": "execute_result"
    }
   ],
   "source": [
    "df.values[0].shape"
   ]
  },
  {
   "cell_type": "code",
   "execution_count": 11,
   "metadata": {},
   "outputs": [
    {
     "data": {
      "text/plain": [
       "(11, 1)"
      ]
     },
     "execution_count": 11,
     "metadata": {},
     "output_type": "execute_result"
    }
   ],
   "source": [
    "df.values[0].reshape(11, 1).shape"
   ]
  },
  {
   "cell_type": "code",
   "execution_count": 12,
   "metadata": {},
   "outputs": [
    {
     "data": {
      "text/plain": [
       "(11, 1)"
      ]
     },
     "execution_count": 12,
     "metadata": {},
     "output_type": "execute_result"
    }
   ],
   "source": [
    "df.values[0].reshape(-1, 1).shape"
   ]
  },
  {
   "cell_type": "code",
   "execution_count": 13,
   "metadata": {},
   "outputs": [
    {
     "data": {
      "text/plain": [
       "array([ 0.32958 ,  0.169321,  0.521407,  0.5     ,  0.7     ,  0.3     ,\n",
       "        0.801141, -0.00119 ,  0.598437,  0.891866,  0.588564],\n",
       "      dtype=float32)"
      ]
     },
     "execution_count": 13,
     "metadata": {},
     "output_type": "execute_result"
    }
   ],
   "source": [
    "df.values[0]"
   ]
  },
  {
   "cell_type": "code",
   "execution_count": 14,
   "metadata": {},
   "outputs": [
    {
     "data": {
      "text/plain": [
       "array([0.32958 , 0.169321, 0.521407], dtype=float32)"
      ]
     },
     "execution_count": 14,
     "metadata": {},
     "output_type": "execute_result"
    }
   ],
   "source": [
    "df.values[0][0:3]"
   ]
  },
  {
   "cell_type": "code",
   "execution_count": 15,
   "metadata": {},
   "outputs": [
    {
     "data": {
      "text/plain": [
       "array([0.32958 , 0.169321, 0.521407], dtype=float32)"
      ]
     },
     "execution_count": 15,
     "metadata": {},
     "output_type": "execute_result"
    }
   ],
   "source": [
    "df.values[0, 0:3]"
   ]
  },
  {
   "cell_type": "code",
   "execution_count": 16,
   "metadata": {},
   "outputs": [
    {
     "data": {
      "text/plain": [
       "array([0.5, 0.7, 0.3], dtype=float32)"
      ]
     },
     "execution_count": 16,
     "metadata": {},
     "output_type": "execute_result"
    }
   ],
   "source": [
    "df.values[0, 3:6]"
   ]
  },
  {
   "cell_type": "code",
   "execution_count": 17,
   "metadata": {},
   "outputs": [
    {
     "data": {
      "text/plain": [
       "array([[ 0.32958 ,  0.169321,  0.521407],\n",
       "       [ 0.341076,  0.129833,  0.500776],\n",
       "       [ 0.348952,  0.169038,  0.498902],\n",
       "       ...,\n",
       "       [-0.490821, -0.062137, -0.185953],\n",
       "       [-0.491746, -0.074751, -0.12937 ],\n",
       "       [-0.556903, -0.079148, -0.139415]], dtype=float32)"
      ]
     },
     "execution_count": 17,
     "metadata": {},
     "output_type": "execute_result"
    }
   ],
   "source": [
    "df.values[:, 0:3]"
   ]
  },
  {
   "cell_type": "code",
   "execution_count": 18,
   "metadata": {},
   "outputs": [
    {
     "data": {
      "text/plain": [
       "(11808, 3)"
      ]
     },
     "execution_count": 18,
     "metadata": {},
     "output_type": "execute_result"
    }
   ],
   "source": [
    "df.values[:, 0:3].shape"
   ]
  },
  {
   "cell_type": "code",
   "execution_count": 19,
   "metadata": {},
   "outputs": [
    {
     "data": {
      "text/plain": [
       "3078.5317"
      ]
     },
     "execution_count": 19,
     "metadata": {},
     "output_type": "execute_result"
    }
   ],
   "source": [
    "np.sum(df.values[:, 0:3])"
   ]
  },
  {
   "cell_type": "code",
   "execution_count": 20,
   "metadata": {},
   "outputs": [
    {
     "data": {
      "text/plain": [
       "0.086905256"
      ]
     },
     "execution_count": 20,
     "metadata": {},
     "output_type": "execute_result"
    }
   ],
   "source": [
    "np.mean(df.values[:, 0:3])"
   ]
  },
  {
   "cell_type": "code",
   "execution_count": 21,
   "metadata": {},
   "outputs": [
    {
     "data": {
      "text/plain": [
       "array([ 0.34010267,  0.323895  ,  0.338964  , ..., -0.24630368,\n",
       "       -0.23195569, -0.25848866], dtype=float32)"
      ]
     },
     "execution_count": 21,
     "metadata": {},
     "output_type": "execute_result"
    }
   ],
   "source": [
    "np.mean(df.values[:, 0:3], axis=1)"
   ]
  },
  {
   "cell_type": "code",
   "execution_count": 22,
   "metadata": {},
   "outputs": [
    {
     "data": {
      "text/plain": [
       "array([-2.6652482e-09,  4.2110518e-02,  2.1860522e-01], dtype=float32)"
      ]
     },
     "execution_count": 22,
     "metadata": {},
     "output_type": "execute_result"
    }
   ],
   "source": [
    "np.mean(df.values[:, 0:3], axis=0)"
   ]
  },
  {
   "cell_type": "code",
   "execution_count": null,
   "metadata": {},
   "outputs": [],
   "source": []
  }
 ],
 "metadata": {
  "kernelspec": {
   "display_name": "Python 3",
   "language": "python",
   "name": "python3"
  },
  "language_info": {
   "codemirror_mode": {
    "name": "ipython",
    "version": 3
   },
   "file_extension": ".py",
   "mimetype": "text/x-python",
   "name": "python",
   "nbconvert_exporter": "python",
   "pygments_lexer": "ipython3",
   "version": "3.8.3"
  }
 },
 "nbformat": 4,
 "nbformat_minor": 4
}
