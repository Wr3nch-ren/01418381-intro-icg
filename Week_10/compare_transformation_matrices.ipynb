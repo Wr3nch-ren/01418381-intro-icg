{
 "cells": [
  {
   "cell_type": "code",
   "execution_count": 8,
   "id": "bbe85c64",
   "metadata": {},
   "outputs": [
    {
     "data": {
      "text/plain": [
       "<CFunctionType object at 0x0000027152A8CA00>"
      ]
     },
     "execution_count": 8,
     "metadata": {},
     "output_type": "execute_result"
    }
   ],
   "source": [
    "from OpenGL.GL import *\n",
    "from OpenGL.GLUT import *\n",
    "\n",
    "def display():\n",
    "    pass\n",
    "\n",
    "glutInit([])\n",
    "glutCreateWindow(\"\")\n",
    "glutDisplayFunc(display)"
   ]
  },
  {
   "cell_type": "code",
   "execution_count": 9,
   "id": "2e5c23d2",
   "metadata": {},
   "outputs": [],
   "source": [
    "import numpy as np\n",
    "import gl_helpers_subst as gl_mat\n",
    "import gl_helpers_exercise as my_mat"
   ]
  },
  {
   "cell_type": "code",
   "execution_count": 10,
   "id": "a271a391",
   "metadata": {},
   "outputs": [],
   "source": [
    "gl_translate_mat = gl_mat.Translate(1, 2, 3)"
   ]
  },
  {
   "cell_type": "code",
   "execution_count": 11,
   "id": "6b24e95c",
   "metadata": {},
   "outputs": [
    {
     "data": {
      "text/plain": [
       "array([[1., 0., 0., 1.],\n",
       "       [0., 1., 0., 2.],\n",
       "       [0., 0., 1., 3.],\n",
       "       [0., 0., 0., 1.]], dtype=float32)"
      ]
     },
     "execution_count": 11,
     "metadata": {},
     "output_type": "execute_result"
    }
   ],
   "source": [
    "gl_translate_mat"
   ]
  },
  {
   "cell_type": "code",
   "execution_count": null,
   "id": "f7b2530a",
   "metadata": {},
   "outputs": [],
   "source": []
  }
 ],
 "metadata": {
  "kernelspec": {
   "display_name": "Python 3 (ipykernel)",
   "language": "python",
   "name": "python3"
  },
  "language_info": {
   "codemirror_mode": {
    "name": "ipython",
    "version": 3
   },
   "file_extension": ".py",
   "mimetype": "text/x-python",
   "name": "python",
   "nbconvert_exporter": "python",
   "pygments_lexer": "ipython3",
   "version": "3.9.7"
  }
 },
 "nbformat": 4,
 "nbformat_minor": 5
}
